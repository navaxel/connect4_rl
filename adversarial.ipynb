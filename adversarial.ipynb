{
 "cells": [
  {
   "cell_type": "code",
   "execution_count": 1,
   "metadata": {},
   "outputs": [],
   "source": [
    "#!pip install kaggle-environments\n",
    "#!pip install chardet\n",
    "#!pip install charset-normalizer\n",
    "#!pip install gym\n",
    "#!pip install tqdm\n",
    "#!pip install -U matplotlib"
   ]
  },
  {
   "cell_type": "code",
   "execution_count": 1,
   "metadata": {},
   "outputs": [
    {
     "name": "stdout",
     "output_type": "stream",
     "text": [
      "Loading environment lux_ai_s2 failed: No module named 'vec_noise'\n"
     ]
    }
   ],
   "source": [
    "from kaggle_environments import make\n",
    "\n",
    "import numpy as np\n",
    "import gym\n",
    "\n",
    "\n",
    "from Scripts.MCTS import agent_mcts\n",
    "from Scripts.Deep_Q_Learning import DQN\n",
    "import matplotlib.pyplot as plt\n",
    "#from Scripts.training import train_agent,load_agent, train_adversial_agent\n",
    "\n",
    "from Scripts.test_model import test_agent, new_testing\n",
    "\n",
    "from Scripts.training import train_agent,save_agent,load_agent\n",
    "from Scripts.new_training import train_adversial_agent\n",
    "from tqdm import tqdm"
   ]
  },
  {
   "attachments": {},
   "cell_type": "markdown",
   "metadata": {},
   "source": [
    "# 0. Initialisating the environment"
   ]
  },
  {
   "cell_type": "code",
   "execution_count": 2,
   "metadata": {},
   "outputs": [],
   "source": [
    "cols = 7\n",
    "rows = 6\n",
    "env = make(\"connectx\", configuration={\"rows\":rows, \"columns\":cols})"
   ]
  },
  {
   "cell_type": "code",
   "execution_count": 3,
   "metadata": {},
   "outputs": [],
   "source": [
    "LOAD_MODEL_agent1 = False\n",
    "LOAD_MODEL_agent2 = False\n",
    "\n",
    "\n",
    "PATH_TO_LOAD = \"models/\"\n",
    "NAME_AGENT_1 = \"1v2_ep20.pt\"\n",
    "NAME_AGENT_2 = \"2v1_ep20.pt\"\n",
    "\n",
    "\n",
    "if(LOAD_MODEL_agent1):\n",
    "    agent1 = load_agent(PATH_TO_LOAD+NAME_AGENT_1)\n",
    "else :\n",
    "    agent1 = DQN()\n",
    "\n",
    "\n",
    "if(LOAD_MODEL_agent2):\n",
    "    agent2 = load_agent(PATH_TO_LOAD+NAME_AGENT_2)\n",
    "else:\n",
    "    agent2 = DQN()"
   ]
  },
  {
   "attachments": {},
   "cell_type": "markdown",
   "metadata": {},
   "source": [
    "# 1. Training against Random"
   ]
  },
  {
   "cell_type": "code",
   "execution_count": 4,
   "metadata": {},
   "outputs": [],
   "source": [
    "RANDOM_EPOCHS = 100"
   ]
  },
  {
   "cell_type": "code",
   "execution_count": 5,
   "metadata": {},
   "outputs": [],
   "source": [
    "#agent1 = train_agent(env,agent1,\"random\",n_player=1,epochs=RANDOM_EPOCHS,display_info=True, save=False)\n",
    "#agent2 = train_agent(env,agent2,\"random\",n_player=2,epochs=RANDOM_EPOCHS,display_info=True, save=False)"
   ]
  },
  {
   "attachments": {},
   "cell_type": "markdown",
   "metadata": {},
   "source": [
    "# 2. Adversarial training"
   ]
  },
  {
   "cell_type": "code",
   "execution_count": 7,
   "metadata": {},
   "outputs": [],
   "source": [
    "ADVERSARIAL_EPOCHS = 10000\n",
    "NB_SWITCH = 10\n",
    "\n",
    "FOLLOW_TRAINING = True\n",
    "NB_GAMES_TEST = 100\n",
    "\n",
    "history_random = []\n",
    "history_MCTS = []\n",
    "history_negamax = []"
   ]
  },
  {
   "cell_type": "code",
   "execution_count": 8,
   "metadata": {},
   "outputs": [],
   "source": [
    "for i in range(NB_SWITCH):\n",
    "    agent1 = train_adversial_agent(env,agent1, agent2,n_player=1,epochs=ADVERSARIAL_EPOCHS,display_info=True)\n",
    "    agent2 = train_adversial_agent(env,agent2, agent1 ,n_player=2,epochs=ADVERSARIAL_EPOCHS,display_info=True)\n",
    "\n"
   ]
  },
  {
   "cell_type": "code",
   "execution_count": null,
   "metadata": {},
   "outputs": [],
   "source": [
    "if FOLLOW_TRAINING:\n",
    "    current_history_random = new_testing(env,agent1,env.agents[\"random\"],n_player=1,nb_games=NB_GAMES_TEST)\n",
    "    #current_history_MCTS = new_testing(env,agent1,agent_mcts,n_player=1,nb_games=NB_GAMES_TEST)\n",
    "    current_history_negamax = new_testing(env,agent1,env.agents[\"negamax\"],n_player =1, nb_games=NB_GAMES_TEST)\n",
    "\n",
    "    history_random.append(current_history_random[1]/NB_GAMES_TEST*100)\n",
    "    #history_MCTS.append(current_history_MCTS[1]/NB_GAMES_TEST*100)\n",
    "    history_negamax.append(current_history_negamax[1]/NB_GAMES_TEST*100)"
   ]
  },
  {
   "cell_type": "code",
   "execution_count": null,
   "metadata": {},
   "outputs": [
    {
     "name": "stdout",
     "output_type": "stream",
     "text": [
      "random :  {1: 66, -1: 33, None: 0, 0: 0}\n",
      "negamax : {1: 4, -1: 95, None: 0, 0: 0}\n"
     ]
    }
   ],
   "source": [
    "print('random : ',current_history_random)\n",
    "print('negamax :',current_history_negamax)"
   ]
  },
  {
   "cell_type": "code",
   "execution_count": 12,
   "metadata": {},
   "outputs": [
    {
     "data": {
      "image/png": "[encoded data removed]",
      "text/plain": [
       "<Figure size 640x480 with 1 Axes>"
      ]
     },
     "metadata": {},
     "output_type": "display_data"
    }
   ],
   "source": [
    "if FOLLOW_TRAINING:\n",
    "    plt.plot(history_random)\n",
    "    #plt.plot(history_MCTS)\n",
    "    plt.plot(history_negamax)\n",
    "plt.show()"
   ]
  },
  {
   "cell_type": "markdown",
   "metadata": {},
   "source": [
    "# 3. Testing Agents"
   ]
  },
  {
   "cell_type": "code",
   "execution_count": 13,
   "metadata": {},
   "outputs": [],
   "source": [
    "NB_GAMES_TEST = 100"
   ]
  },
  {
   "attachments": {},
   "cell_type": "markdown",
   "metadata": {},
   "source": [
    "### 3.1 Against random"
   ]
  },
  {
   "cell_type": "code",
   "execution_count": 14,
   "metadata": {},
   "outputs": [
    {
     "ename": "TypeError",
     "evalue": "DQN.choose_action() takes 3 positional arguments but 4 were given",
     "output_type": "error",
     "traceback": [
      "\u001b[0;31m---------------------------------------------------------------------------\u001b[0m",
      "\u001b[0;31mTypeError\u001b[0m                                 Traceback (most recent call last)",
      "Cell \u001b[0;32mIn[14], line 1\u001b[0m\n\u001b[0;32m----> 1\u001b[0m history_random \u001b[39m=\u001b[39m test_agent(env,agent1,\u001b[39m\"\u001b[39;49m\u001b[39mrandom\u001b[39;49m\u001b[39m\"\u001b[39;49m,n_player\u001b[39m=\u001b[39;49m\u001b[39m1\u001b[39;49m,nb_games\u001b[39m=\u001b[39;49mNB_GAMES_TEST)\n\u001b[1;32m      2\u001b[0m \u001b[39mprint\u001b[39m(history_random)\n",
      "File \u001b[0;32m~/Desktop/3A/INF581 RL/Projet/tests/Scripts/test_model.py:25\u001b[0m, in \u001b[0;36mtest_agent\u001b[0;34m(env, agent_to_test, agent_against, n_player, nb_games, rows, cols)\u001b[0m\n\u001b[1;32m     22\u001b[0m \u001b[39mwhile\u001b[39;00m \u001b[39mTrue\u001b[39;00m:\n\u001b[1;32m     23\u001b[0m     j\u001b[39m+\u001b[39m\u001b[39m=\u001b[39m\u001b[39m1\u001b[39m\n\u001b[0;32m---> 25\u001b[0m     trained_action \u001b[39m=\u001b[39m agent_to_test\u001b[39m.\u001b[39;49mchoose_action(n_player, state, env)\n\u001b[1;32m     26\u001b[0m     \u001b[39mif\u001b[39;00m n_player \u001b[39m==\u001b[39m \u001b[39m1\u001b[39m:\n\u001b[1;32m     27\u001b[0m         intermediary_state \u001b[39m=\u001b[39m np\u001b[39m.\u001b[39mreshape(env\u001b[39m.\u001b[39mstep([trained_action, \u001b[39mNone\u001b[39;00m])[\u001b[39m0\u001b[39m][\u001b[39m\"\u001b[39m\u001b[39mobservation\u001b[39m\u001b[39m\"\u001b[39m][\u001b[39m\"\u001b[39m\u001b[39mboard\u001b[39m\u001b[39m\"\u001b[39m], [\u001b[39m1\u001b[39m, rows, cols])\n",
      "\u001b[0;31mTypeError\u001b[0m: DQN.choose_action() takes 3 positional arguments but 4 were given"
     ]
    }
   ],
   "source": [
    "history_random = test_agent(env,agent1,\"random\",n_player=1,nb_games=NB_GAMES_TEST)\n",
    "print(history_random)"
   ]
  },
  {
   "attachments": {},
   "cell_type": "markdown",
   "metadata": {},
   "source": [
    "### 3.2 Against MCTS"
   ]
  },
  {
   "cell_type": "code",
   "execution_count": null,
   "metadata": {},
   "outputs": [],
   "source": [
    "history_MCTS = test_agent(env,agent1,agent_mcts,n_player=1,nb_games=NB_GAMES_TEST)\n",
    "plt.plot(history_MCTS)"
   ]
  },
  {
   "cell_type": "markdown",
   "metadata": {},
   "source": [
    "### 3.3 Against MCTS"
   ]
  },
  {
   "cell_type": "code",
   "execution_count": null,
   "metadata": {},
   "outputs": [],
   "source": [
    "history_negamax = test_agent(env,agent1,\"negamax\",n_player =1, nb_games=NB_GAMES_TEST)\n",
    "plt.plot(history_negamax)"
   ]
  },
  {
   "attachments": {},
   "cell_type": "markdown",
   "metadata": {},
   "source": [
    "# 4. Saving Agents"
   ]
  },
  {
   "cell_type": "code",
   "execution_count": null,
   "metadata": {},
   "outputs": [],
   "source": [
    "SAVE = True\n",
    "PATH_TO_SAVE = \"models/\"\n",
    "\n",
    "NAME1 = \"1v2_ep\"+ str(NB_SWITCH*ADVERSARIAL_EPOCHS)\n",
    "NAME2 = \"2v1_ep\"+ str(NB_SWITCH*ADVERSARIAL_EPOCHS)"
   ]
  },
  {
   "cell_type": "code",
   "execution_count": null,
   "metadata": {},
   "outputs": [],
   "source": [
    "if SAVE :\n",
    "    save_agent(agent1, path_to_save=PATH_TO_SAVE, name=NAME1, epochs=NB_SWITCH*ADVERSARIAL_EPOCHS)\n",
    "    save_agent(agent2, path_to_save=PATH_TO_SAVE, name=NAME2, epochs=NB_SWITCH*ADVERSARIAL_EPOCHS)"
   ]
  },
  {
   "attachments": {},
   "cell_type": "markdown",
   "metadata": {},
   "source": [
    "# 3. Testing efficiency of the training against rd"
   ]
  },
  {
   "cell_type": "code",
   "execution_count": null,
   "metadata": {},
   "outputs": [],
   "source": [
    "EPOCHS = 100\n",
    "NB_GAMES_TEST = 10"
   ]
  },
  {
   "cell_type": "code",
   "execution_count": null,
   "metadata": {},
   "outputs": [],
   "source": [
    "agent1 = DQN()\n",
    "\n",
    "for i in range(1):\n",
    "    agent1 = train_agent(env,agent1,\"random\",n_player=1,epoch=100,display_info=False)\n",
    "    current_history = test_agent(env,agent1,\"random\",n_player=1,nb_games=NB_GAMES_TEST)\n",
    "    print(current_history)\n",
    "    history.append(current_history[1]/nb_games_test * 100)\n",
    "plt.plot(history)"
   ]
  },
  {
   "cell_type": "code",
   "execution_count": null,
   "metadata": {},
   "outputs": [],
   "source": [
    "plt.figure(figsize = (20,20))\n",
    "plt.title(\"Neural Network vs Random Player - Trained only against the random player\")\n",
    "plt.xlabel(\"Training time 100's of games\")\n",
    "plt.ylabel(\"Wins per 100 games in testing phase\")\n",
    "history.insert(0,50)\n",
    "plt.plot(history)"
   ]
  }
 ],
 "metadata": {
  "kernelspec": {
   "display_name": "Python 3",
   "language": "python",
   "name": "python3"
  },
  "language_info": {
   "codemirror_mode": {
    "name": "ipython",
    "version": 3
   },
   "file_extension": ".py",
   "mimetype": "text/x-python",
   "name": "python",
   "nbconvert_exporter": "python",
   "pygments_lexer": "ipython3",
   "version": "3.10.9"
  },
  "orig_nbformat": 4,
  "vscode": {
   "interpreter": {
    "hash": "d8aa6b6d7fc0352aec01852ba3878270997e10287822bc8d006a87177ddd021e"
   }
  }
 },
 "nbformat": 4,
 "nbformat_minor": 2
}

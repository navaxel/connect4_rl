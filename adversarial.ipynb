{
 "cells": [
  {
   "cell_type": "code",
   "execution_count": 1,
   "metadata": {},
   "outputs": [],
   "source": [
    "#!pip install kaggle-environments\n",
    "#!pip install chardet\n",
    "#!pip install charset-normalizer\n",
    "#!pip install gym\n",
    "#!pip install tqdm\n",
    "#!pip install -U matplotlib"
   ]
  },
  {
   "cell_type": "code",
   "execution_count": 1,
   "metadata": {},
   "outputs": [
    {
     "name": "stdout",
     "output_type": "stream",
     "text": [
      "Loading environment lux_ai_s2 failed: No module named 'vec_noise'\n"
     ]
    }
   ],
   "source": [
    "from kaggle_environments import make\n",
    "\n",
    "import numpy as np\n",
    "import gym\n",
    "\n",
    "\n",
    "from Scripts.MCTS import agent_mcts\n",
    "from Scripts.Deep_Q_Learning import DQN\n",
    "import matplotlib.pyplot as plt\n",
    "\n",
    "from Scripts.test_model import test_agent, new_testing\n",
    "\n",
    "from Scripts.new_training import train_adversial_agent, save_agent,load_agent, train_agent\n",
    "from tqdm import tqdm"
   ]
  },
  {
   "attachments": {},
   "cell_type": "markdown",
   "metadata": {},
   "source": [
    "# 0. Initialisating the environment"
   ]
  },
  {
   "cell_type": "code",
   "execution_count": 2,
   "metadata": {},
   "outputs": [],
   "source": [
    "cols = 7\n",
    "rows = 6\n",
    "env = make(\"connectx\", configuration={\"rows\":rows, \"columns\":cols})"
   ]
  },
  {
   "cell_type": "code",
   "execution_count": 3,
   "metadata": {},
   "outputs": [],
   "source": [
    "LOAD_MODEL_agent1 = False\n",
    "LOAD_MODEL_agent2 = False\n",
    "\n",
    "\n",
    "PATH_TO_LOAD = \"models/\"\n",
    "NAME_AGENT_1 = \"1v2_ep20.pt\"\n",
    "NAME_AGENT_2 = \"2v1_ep20.pt\"\n",
    "\n",
    "\n",
    "if(LOAD_MODEL_agent1):\n",
    "    agent1 = load_agent(PATH_TO_LOAD+NAME_AGENT_1)\n",
    "else :\n",
    "    agent1 = DQN()\n",
    "\n",
    "\n",
    "if(LOAD_MODEL_agent2):\n",
    "    agent2 = load_agent(PATH_TO_LOAD+NAME_AGENT_2)\n",
    "else:\n",
    "    agent2 = DQN()"
   ]
  },
  {
   "attachments": {},
   "cell_type": "markdown",
   "metadata": {},
   "source": [
    "# 1. Training against Random"
   ]
  },
  {
   "cell_type": "code",
   "execution_count": 4,
   "metadata": {},
   "outputs": [],
   "source": [
    "RANDOM_EPOCHS = 100\n",
    "NB_GAMES_TEST = 10"
   ]
  },
  {
   "cell_type": "code",
   "execution_count": 6,
   "metadata": {},
   "outputs": [],
   "source": [
    "agent1 = train_agent(env,agent1,env.agents[\"random\"],n_player=1,epochs=RANDOM_EPOCHS,display_info=True, save=False)\n"
   ]
  },
  {
   "cell_type": "code",
   "execution_count": 7,
   "metadata": {},
   "outputs": [
    {
     "name": "stdout",
     "output_type": "stream",
     "text": [
      "The 100 th game has been played ! \n",
      "\n",
      "The 100 th game has been played ! \n",
      "\n",
      "The 100 th game has been played ! \n",
      "\n",
      "The 100 th game has been played ! \n",
      "\n",
      "The 100 th game has been played ! \n",
      "\n",
      "The 100 th game has been played ! \n",
      "\n",
      "The 100 th game has been played ! \n",
      "\n",
      "The 100 th game has been played ! \n",
      "\n",
      "The 100 th game has been played ! \n",
      "\n",
      "The 100 th game has been played ! \n",
      "\n",
      "The 100 th game has been played ! \n",
      "\n",
      "The 100 th game has been played ! \n",
      "\n",
      "The 100 th game has been played ! \n",
      "\n",
      "The 100 th game has been played ! \n",
      "\n",
      "The 100 th game has been played ! \n",
      "\n",
      "The 100 th game has been played ! \n",
      "\n",
      "The 100 th game has been played ! \n",
      "\n",
      "The 100 th game has been played ! \n",
      "\n",
      "The 100 th game has been played ! \n",
      "\n",
      "The 100 th game has been played ! \n",
      "\n",
      "The 100 th game has been played ! \n",
      "\n",
      "The 100 th game has been played ! \n",
      "\n",
      "The 100 th game has been played ! \n",
      "\n",
      "The 100 th game has been played ! \n",
      "\n",
      "The 100 th game has been played ! \n",
      "\n",
      "The 100 th game has been played ! \n",
      "\n",
      "The 100 th game has been played ! \n",
      "\n",
      "The 100 th game has been played ! \n",
      "\n",
      "The 100 th game has been played ! \n",
      "\n",
      "The 100 th game has been played ! \n",
      "\n",
      "The 100 th game has been played ! \n",
      "\n",
      "The 100 th game has been played ! \n",
      "\n",
      "The 100 th game has been played ! \n",
      "\n",
      "The 100 th game has been played ! \n",
      "\n",
      "The 100 th game has been played ! \n",
      "\n",
      "The 100 th game has been played ! \n",
      "\n",
      "The 100 th game has been played ! \n",
      "\n",
      "The 100 th game has been played ! \n",
      "\n",
      "The 100 th game has been played ! \n",
      "\n",
      "The 100 th game has been played ! \n",
      "\n",
      "The 100 th game has been played ! \n",
      "\n",
      "The 100 th game has been played ! \n",
      "\n",
      "The 100 th game has been played ! \n",
      "\n",
      "The 100 th game has been played ! \n",
      "\n",
      "The 100 th game has been played ! \n",
      "\n"
     ]
    }
   ],
   "source": [
    "current_history_random = new_testing(env,agent1,env.agents[\"random\"],n_player=1,nb_games=NB_GAMES_TEST)\n",
    "current_history_MCTS = new_testing(env,agent1,agent_mcts,n_player=1,nb_games=NB_GAMES_TEST)\n",
    "current_history_negamax = new_testing(env,agent1,env.agents[\"negamax\"],n_player =1, nb_games=NB_GAMES_TEST)"
   ]
  },
  {
   "cell_type": "code",
   "execution_count": 8,
   "metadata": {},
   "outputs": [
    {
     "name": "stdout",
     "output_type": "stream",
     "text": [
      "random :  {1: 8, -1: 1, None: 0, 0: 0}\n",
      "negamax : {1: 0, -1: 9, None: 0, 0: 0}\n",
      "MCTS : {1: 0, -1: 9, None: 0, 0: 0}\n"
     ]
    }
   ],
   "source": [
    "print('random : ',current_history_random)\n",
    "print('negamax :',current_history_negamax)\n",
    "print('MCTS :',current_history_MCTS)"
   ]
  },
  {
   "attachments": {},
   "cell_type": "markdown",
   "metadata": {},
   "source": [
    "# 2. Adversarial training"
   ]
  },
  {
   "cell_type": "code",
   "execution_count": 4,
   "metadata": {},
   "outputs": [],
   "source": [
    "ADVERSARIAL_EPOCHS = 100\n",
    "NB_SWITCH = 10\n",
    "\n",
    "FOLLOW_TRAINING = True\n",
    "NB_GAMES_TEST = 10\n",
    "\n",
    "history_random = []\n",
    "history_MCTS = []\n",
    "history_negamax = []"
   ]
  },
  {
   "cell_type": "code",
   "execution_count": 5,
   "metadata": {},
   "outputs": [
    {
     "name": "stdout",
     "output_type": "stream",
     "text": [
      "Episode 50 Average Reward 0.02576133646263675 Nb Win 13 Epsilon 0.1\n",
      "Episode 50 Average Reward 0.12557460523145406 Nb Win 29 Epsilon 0.1\n",
      "Episode 50 Average Reward -0.012670770958376588 Nb Win 25 Epsilon 0.1\n",
      "Episode 50 Average Reward 0.11279310504375546 Nb Win 36 Epsilon 0.1\n",
      "Episode 50 Average Reward 0.1704778573743695 Nb Win 48 Epsilon 0.1\n",
      "Episode 50 Average Reward 0.19930261586762055 Nb Win 50 Epsilon 0.1\n",
      "Episode 50 Average Reward 0.16959719326464018 Nb Win 27 Epsilon 0.1\n",
      "Episode 50 Average Reward 0.38742048900000015 Nb Win 50 Epsilon 0.1\n",
      "Episode 50 Average Reward 0.32343086291568035 Nb Win 47 Epsilon 0.1\n",
      "Episode 50 Average Reward 0.38742048900000015 Nb Win 50 Epsilon 0.1\n",
      "Episode 50 Average Reward 0.3486784401000002 Nb Win 50 Epsilon 0.1\n",
      "Episode 50 Average Reward 0.38742048900000015 Nb Win 50 Epsilon 0.1\n",
      "Episode 50 Average Reward 0.3486784401000002 Nb Win 50 Epsilon 0.1\n",
      "Episode 50 Average Reward 0.315378988828453 Nb Win 48 Epsilon 0.1\n",
      "Episode 50 Average Reward 0.3096285446053984 Nb Win 44 Epsilon 0.1\n",
      "Episode 50 Average Reward 0.044359010620898066 Nb Win 12 Epsilon 0.1\n",
      "Episode 50 Average Reward 0.14572708566952222 Nb Win 29 Epsilon 0.1\n",
      "Episode 50 Average Reward 0.32039809262630187 Nb Win 50 Epsilon 0.1\n",
      "Episode 50 Average Reward 0.3486784401000002 Nb Win 50 Epsilon 0.1\n",
      "Episode 50 Average Reward 0.38742048900000015 Nb Win 50 Epsilon 0.1\n"
     ]
    }
   ],
   "source": [
    "for i in range(NB_SWITCH):\n",
    "    agent1 = train_adversial_agent(env,agent1, agent2,n_player=1,epochs=ADVERSARIAL_EPOCHS,display_info=True)\n",
    "    agent2 = train_adversial_agent(env,agent2, agent1 ,n_player=2,epochs=ADVERSARIAL_EPOCHS,display_info=True)\n",
    "    if FOLLOW_TRAINING:\n",
    "        current_history_random = new_testing(env,agent1,env.agents[\"random\"],n_player=1,nb_games=NB_GAMES_TEST)\n",
    "        current_history_MCTS = new_testing(env,agent1,agent_mcts,n_player=1,nb_games=NB_GAMES_TEST)\n",
    "        current_history_negamax = new_testing(env,agent1,env.agents[\"negamax\"],n_player =1, nb_games=NB_GAMES_TEST)\n",
    "\n",
    "        history_random.append(current_history_random[1]/NB_GAMES_TEST*100)\n",
    "        history_MCTS.append(current_history_MCTS[1]/NB_GAMES_TEST*100)\n",
    "        history_negamax.append(current_history_negamax[1]/NB_GAMES_TEST*100)\n",
    "\n"
   ]
  },
  {
   "cell_type": "code",
   "execution_count": 8,
   "metadata": {},
   "outputs": [
    {
     "name": "stdout",
     "output_type": "stream",
     "text": [
      "random : {1: 6, -1: 3, None: 0, 0: 0}\n",
      "negamax : {1: 0, -1: 9, None: 0, 0: 0}\n",
      "MCTS : {1: 0, -1: 9, None: 0, 0: 0}\n"
     ]
    }
   ],
   "source": [
    "if FOLLOW_TRAINING:\n",
    "    print('random :', current_history_random)\n",
    "    print('negamax :',current_history_negamax)\n",
    "    print('MCTS :', current_history_MCTS)\n"
   ]
  },
  {
   "cell_type": "code",
   "execution_count": 9,
   "metadata": {},
   "outputs": [
    {
     "data": {
      "image/png": "[encoded data removed]",
      "text/plain": [
       "<Figure size 640x480 with 1 Axes>"
      ]
     },
     "metadata": {},
     "output_type": "display_data"
    }
   ],
   "source": [
    "if FOLLOW_TRAINING:\n",
    "    plt.plot(history_random)\n",
    "    plt.plot(history_MCTS)\n",
    "    plt.plot(history_negamax)\n",
    "plt.show()"
   ]
  },
  {
   "cell_type": "markdown",
   "metadata": {},
   "source": [
    "# 3. Testing Agents"
   ]
  },
  {
   "cell_type": "code",
   "execution_count": 14,
   "metadata": {},
   "outputs": [],
   "source": [
    "NB_GAMES_TEST = 100"
   ]
  },
  {
   "attachments": {},
   "cell_type": "markdown",
   "metadata": {},
   "source": [
    "### 3.1 Against random"
   ]
  },
  {
   "cell_type": "code",
   "execution_count": 16,
   "metadata": {},
   "outputs": [
    {
     "name": "stdout",
     "output_type": "stream",
     "text": [
      "{1: 53, -1: 46, None: 0, 0: 0}\n"
     ]
    }
   ],
   "source": [
    "history_random = new_testing(env,agent1,env.agents[\"random\"],n_player=1,nb_games=NB_GAMES_TEST)\n",
    "print(history_random)"
   ]
  },
  {
   "attachments": {},
   "cell_type": "markdown",
   "metadata": {},
   "source": [
    "### 3.2 Against MCTS"
   ]
  },
  {
   "cell_type": "code",
   "execution_count": null,
   "metadata": {},
   "outputs": [],
   "source": [
    "history_MCTS = new_testing(env,agent1,agent_mcts,n_player=1,nb_games=NB_GAMES_TEST)\n",
    "plt.plot(history_MCTS)"
   ]
  },
  {
   "cell_type": "markdown",
   "metadata": {},
   "source": [
    "### 3.3 Against MCTS"
   ]
  },
  {
   "cell_type": "code",
   "execution_count": null,
   "metadata": {},
   "outputs": [],
   "source": [
    "history_negamax = new_testing(env,agent1,env.agents[\"negamax\"],n_player =1, nb_games=NB_GAMES_TEST)\n",
    "plt.plot(history_negamax)"
   ]
  },
  {
   "attachments": {},
   "cell_type": "markdown",
   "metadata": {},
   "source": [
    "# 4. Saving Agents"
   ]
  },
  {
   "cell_type": "code",
   "execution_count": null,
   "metadata": {},
   "outputs": [],
   "source": [
    "SAVE = True\n",
    "PATH_TO_SAVE = \"models/\"\n",
    "\n",
    "NAME1 = \"1v2_ep\"+ str(NB_SWITCH*ADVERSARIAL_EPOCHS)\n",
    "NAME2 = \"2v1_ep\"+ str(NB_SWITCH*ADVERSARIAL_EPOCHS)"
   ]
  },
  {
   "cell_type": "code",
   "execution_count": null,
   "metadata": {},
   "outputs": [],
   "source": [
    "if SAVE :\n",
    "    save_agent(agent1, path_to_save=PATH_TO_SAVE, name=NAME1, epochs=NB_SWITCH*ADVERSARIAL_EPOCHS)\n",
    "    save_agent(agent2, path_to_save=PATH_TO_SAVE, name=NAME2, epochs=NB_SWITCH*ADVERSARIAL_EPOCHS)"
   ]
  }
 ],
 "metadata": {
  "kernelspec": {
   "display_name": "Python 3",
   "language": "python",
   "name": "python3"
  },
  "language_info": {
   "codemirror_mode": {
    "name": "ipython",
    "version": 3
   },
   "file_extension": ".py",
   "mimetype": "text/x-python",
   "name": "python",
   "nbconvert_exporter": "python",
   "pygments_lexer": "ipython3",
   "version": "3.10.9"
  },
  "orig_nbformat": 4,
  "vscode": {
   "interpreter": {
    "hash": "d8aa6b6d7fc0352aec01852ba3878270997e10287822bc8d006a87177ddd021e"
   }
  }
 },
 "nbformat": 4,
 "nbformat_minor": 2
}
